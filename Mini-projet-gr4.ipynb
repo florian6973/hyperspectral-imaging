{
 "cells": [
  {
   "cell_type": "markdown",
   "metadata": {},
   "source": [
    "## Mini-Projet: Séparation de sources hyperspectrale\n",
    "\n",
    "Une image hyperspectrale est une image où un spectre contenant $D$ valeurs ou canaux est enregistré à chaque pixel. Cette modalité d'imagerie est très utilisée en imagerie satellitaire, où elle permet d'améliorer considérablement la résolution de la prise d'image. Dans le cas des images satellitaires, les pixels de l'image ont ainsi une résolution spatiale de l'ordre de la dizaine de mètres, de sorte que ces pixels mélangent les contributions des différents éléments présents sur la scène imagée (végétation, eau, minéraux du sol, habitations, routes, etc.). Nous nous intéressons ici à un problème, connu sous le nom de séparation de sources hyperspectrale, qui vise à identifier, pour une observation donnée, les spectres des constituants élémentaires présents dans une scène, ainsi que la proportion (\"l'abondance\") de ces constituants en chaque pixel de l'image.\n",
    "\n",
    "L'objectif de ce mini-projet est d'implémenter un algorithme de séparation de source hyperspectral et de l'appliquer à une image satellitaire issue de la base de donnée SAMSON. L'image en question est de taille 95 x 95 pixels. Chaque pixel correspond à un spectre de 156 canaux, qui couvrent un intervalle de longueurs d'onde qui s'étend de 401 à 889 nm. La résolution spectrale est de 3.13 nm. Chaque spectre Y(x, y) mesuré au niveau du pixel (x, y) de l'image correspond à la combinaison linéaire des spectres *élémentaires* associés à l'eau, à la végétation et aux minéraux présents dans le sol:\n",
    "\n",
    "$$\n",
    "Y[x, y] = \\alpha_{1} [x, y] m_1 + \\alpha_2 [x, y] m_2 + (1 - \\alpha_1[x, y] - \\alpha_2[x, y]) m_3,\n",
    "$$\n",
    "\n",
    "où $\\alpha_1[x, y]$ et $\\alpha_2[x, y]$ correspondent aux proportions relatives d'eau et de végétation en surface à la position $[x, y]$, et $m_1$, $m_2$ et $m_3$ correspondent aux spectres élémentaires de l'eau, de la végétation et du sol minéral respectivement.\n",
    "\n"
   ]
  },
  {
   "cell_type": "code",
   "execution_count": 1,
   "metadata": {},
   "outputs": [],
   "source": [
    "# -*- Encoding: Latin-1 -*-\n",
    "#!/usr/bin/python\n",
    "\n",
    "from math import *\n",
    "import numpy as np\n",
    "import matplotlib.pyplot as plt\n",
    "from scipy.io import loadmat\n",
    "from scipy.linalg import eigh, det, norm"
   ]
  },
  {
   "cell_type": "code",
   "execution_count": 2,
   "metadata": {},
   "outputs": [],
   "source": [
    "data_dict = loadmat(\"Samson.mat\")\n",
    "a = data_dict['A'].reshape((95*95, 3))\n",
    "end = data_dict['M']\n",
    "data = np.dot(a, end.T)"
   ]
  },
  {
   "cell_type": "markdown",
   "metadata": {},
   "source": [
    "## 1. Visualisation des données\n",
    "\n",
    "Le script ci-dessous permet de charger les données de l'image. Implémenter une fonction python permettant de visualiser:\n",
    "- le spectre mesuré en un pixel de l'image\n",
    "- l'image obtenue à une longueur d'onde donnée"
   ]
  },
  {
   "cell_type": "code",
   "execution_count": 3,
   "metadata": {},
   "outputs": [],
   "source": [
    "def display_spectrum(img, loc):\n",
    "    \n",
    "    \"\"\"\n",
    "    Display the spectrum at location (x, y)\n",
    "    \n",
    "    :param img: Hyperspectral image\n",
    "    :type img: 3D numpy array\n",
    "    :param loc: Pixel location\n",
    "    :type loc: tuple\n",
    "    \n",
    "    \"\"\"\n",
    "    "
   ]
  },
  {
   "cell_type": "code",
   "execution_count": null,
   "metadata": {},
   "outputs": [],
   "source": [
    "#display_spectrum(data.reshape((95, 95, 156)), (50, 50))"
   ]
  },
  {
   "cell_type": "code",
   "execution_count": null,
   "metadata": {},
   "outputs": [],
   "source": [
    "def display_band(img, spectr_idx):\n",
    "    \n",
    "    \"\"\"\n",
    "    Display the image corresponding to the specified spectral band\n",
    "    \n",
    "    :param img: Hyperspectral image\n",
    "    :type img: 3D numpy array\n",
    "    :param spectr_idx: Indexof the spectral band to display\n",
    "    :type loc: int\n",
    "    \n",
    "    \"\"\""
   ]
  },
  {
   "cell_type": "code",
   "execution_count": null,
   "metadata": {},
   "outputs": [],
   "source": [
    "#display_band(data.reshape((95, 95, 156)), 10)"
   ]
  },
  {
   "cell_type": "markdown",
   "metadata": {},
   "source": [
    "## 2. Réduction de dimension\n",
    "\n",
    "Les spectres observés dans les données sont des vecteurs de dimension $D = 156$ et peuvent donc être représentées dans l'espace vectoriel $\\mathbb{R}^D$. Ces spectres correspondent cependant à la combinaison linéaire de $K = 3$ spectres élémentaires, pondérés par les quantités positives $\\alpha _1$, $\\alpha_2$ et $\\alpha_3$, qui correspondent à la proportion relative de chacun des spectres élémentaires. Par ailleurs, on a la relation de liaison supplémentaire:\n",
    "\n",
    "$$\n",
    "\\alpha_1 + \\alpha_2 + \\alpha_3 = 1.\n",
    "$$\n",
    "\n",
    "Compte tenu de ces différentes relations, est-il possible de réduire la dimension des données, c'est à dire de déterminer un sous-espace de $\\mathbb{R}^D$ qui contienne l'ensemble des points de données ? Quelle serait la dimension de cet espace ? En utilisant l'algorithme d'analyse en composantes principales (ACP, ou PCA en anglais) présenté dans les slides accompagnant le mini-projet, identifier le sous-espace en question. Projeter les données spectrales dans ce sous-espace, et afficher le résultat. Commenter le résultat. En particulier, comment explique-t-on la distribution géométrique des données spectrales?\n"
   ]
  },
  {
   "cell_type": "code",
   "execution_count": null,
   "metadata": {},
   "outputs": [],
   "source": [
    "def pca(data, K):\n",
    "\n",
    "    \"\"\"\n",
    "    Principal component analysis (PCA)\n",
    "    \"\"\"\n",
    "\n",
    "    # Compute the covariance matrix and the mean of the data\n",
    "\n",
    "    # Computes the eigenvalues/eigenvectors of the covariance matrix\n",
    "\n",
    "    # Extract the K largest eigenvectors\n",
    "        \n",
    "    # Project the data on the subpasce spanned by the K largest eigenvectors\n",
    "    #Y = ...\n",
    "    #return Y"
   ]
  },
  {
   "cell_type": "code",
   "execution_count": null,
   "metadata": {},
   "outputs": [],
   "source": [
    "# plot the projected data"
   ]
  },
  {
   "cell_type": "markdown",
   "metadata": {},
   "source": [
    "# 3. Détermination des spectres élémentaires\n",
    "\n",
    "Dans l'espace de dimension réduite déterminé dans la question précédente, les données spectrales prennent la forme géométrique d'un simplexe. Les sommets de ce simplexe correspondent aux spectres élémentaires présents dans la scène. Implémenter l'algorithme N-FINDR décrit dans les slides accompagnant le mini-projet pour déterminer les spectres élémentaires.\n",
    "\n"
   ]
  },
  {
   "cell_type": "code",
   "execution_count": null,
   "metadata": {},
   "outputs": [],
   "source": [
    "class nfindr:\n",
    "\n",
    "    \"\"\"\n",
    "    NFINDR algorithm implementation\n",
    "    \"\"\"\n",
    "\n",
    "    def __init__(self, projected_data, R):\n",
    "\n",
    "        \"\"\"\n",
    "        Constructor\n",
    "\n",
    "        :param projected_data: Projected data points\n",
    "        :param R: Number of endmembers\n",
    "        :type projected_data: Numpy array \n",
    "        :type R: int\n",
    "        \"\"\"\n",
    "\n",
    "        self.projected_data = projected_data\n",
    "        self.N, self.K = self.projected_data.shape    \n",
    "        self.R = R \n",
    "\n",
    "\n",
    "    def set_endmembers(self):\n",
    "\n",
    "        \"\"\"\n",
    "        Initialize the NFINDR algorithm \n",
    "        \"\"\"\n",
    "\n",
    "        # Randomly select R endmembers from the data points\n",
    "        \n",
    "\n",
    "        # Compute the volume of the simplex\n",
    "        \n",
    "\n",
    "    def iterate(self):\n",
    "\n",
    "        \"\"\"\n",
    "        N-FINDR Iteration\n",
    "        \"\"\"\n",
    "\n",
    "        # Iterate over the endmembers\n",
    "        for p in range(self.R):\n",
    "            end = np.copy(self.endmembers)\n",
    "\n",
    "            # Iterate over the data points\n",
    "            for q in range(self.N):\n",
    "\n",
    "                # Try replacing the selected endmember by the data point\n",
    "\n",
    "                # Update the endmember if the volume is greater\n",
    "\n",
    "\n",
    "\n",
    "    def run(self):\n",
    "\n",
    "        \"\"\"\n",
    "        Run the algorithm\n",
    "        \"\"\"\n",
    "\n",
    "        # Randomly select endmembers within the data points\n",
    "        self.set_endmembers()\n",
    "\n",
    "        # Iterate until idempotence is reached\n",
    "        \n",
    "  \n",
    "        # Display result\n",
    "        self.display_endmembers()\n",
    "            \n",
    "\n",
    "    def display_endmembers(self):\n",
    "\n",
    "        \"\"\"\n",
    "        Scatter plot of the simplex data\n",
    "        \"\"\"\n",
    "\n"
   ]
  },
  {
   "cell_type": "code",
   "execution_count": null,
   "metadata": {},
   "outputs": [],
   "source": [
    "#inst = nfindr(projected_data, R=3)\n",
    "#inst.run()"
   ]
  },
  {
   "cell_type": "markdown",
   "metadata": {},
   "source": [
    "# 4. Détermination des abondances\n",
    "\n",
    "Nous cherchons maintenant à identifier les abondances de chacun des spectres, c'est à dire à déterminer, en chaque point, quelle est la proportion relative de chacun des spectres élémentaires identifiés dans l'étape précédente. Pour ce faire, nous cherchons à résoudre, à chaque pixel de l'image, le problème d'optimisation suivant:\n",
    "\n",
    "$$\n",
    "\\alpha := \\arg \\min \\| Y[x, y] - \\sum_{i = 1}^3 \\alpha _{i}[x, y] m_i \\|^2\n",
    "$$\n",
    "\n",
    "sous les contraintes \n",
    "\n",
    "$$\n",
    "\\forall i = 1,2,3, \\quad \\alpha_i \\geq 0\n",
    "$$\n",
    "\n",
    "et \n",
    "\n",
    "$$\n",
    "\\sum_{i = 1}^3 \\alpha_i = 1.\n",
    "$$\n",
    "\n",
    "Pour résoudre ce problème, appliquer un algorithme de descente de gradient projeté, tel que décrit dans les slides."
   ]
  },
  {
   "cell_type": "code",
   "execution_count": null,
   "metadata": {},
   "outputs": [],
   "source": [
    "class projected_gradient:\n",
    "\n",
    "    \"\"\"\n",
    "    Projected gradient descent implementation for solving\n",
    "    minimize ||Ma - y||^2 s.t 0 <= a <= 1.\n",
    "    \"\"\"\n",
    "\n",
    "    def __init__(self, M, y):\n",
    "\n",
    "        \"\"\"\n",
    "        Constructor\n",
    "        \n",
    "        :param M: endmembers matrix\n",
    "        :param y: spectra\n",
    "        \"\"\"\n",
    "        \n",
    "        self.M = M\n",
    "        self.D, self.R = self.M.shape\n",
    "        self.y = y\n",
    "        self.a = np.zeros(self.R)\n",
    "        self.f = norm(np.dot(self.M, self.a) - self.y, ord = 2)\n",
    "        self.beta = 0.5\n",
    "        self.lambd = 1.\n",
    "\n",
    "\n",
    "    def iterate(self):\n",
    "\n",
    "        \"\"\"\n",
    "        Iteration of the projected gradient descent algorithm\n",
    "        \"\"\"\n",
    "\n",
    "        # Compute the gradient\n",
    "        \n",
    "        \n",
    "        next = True\n",
    "        while(next):\n",
    "\n",
    "            # Proximal operator\n",
    "            \n",
    "\n",
    "            # Line search\n",
    "            \n",
    "                \n",
    "\n",
    "    def run(self, eps, maxiter):\n",
    "\n",
    "        \"\"\"\n",
    "        Run the proximal gradient algorithm\n",
    "\n",
    "        :param eps: Requested precision \n",
    "        :param maxiter: Maximal number of iteration\n",
    "        \"\"\"\n",
    "        "
   ]
  },
  {
   "cell_type": "code",
   "execution_count": null,
   "metadata": {},
   "outputs": [],
   "source": [
    "def display_abundances(abundances):\n",
    "\n",
    "    \"\"\"\n",
    "    Display the abundances maps\n",
    "\n",
    "    :param abundances: Abundances map\n",
    "    :type abunbances: Numpy array\n",
    "    \"\"\"\n",
    "\n"
   ]
  },
  {
   "cell_type": "code",
   "execution_count": null,
   "metadata": {},
   "outputs": [],
   "source": [
    "# Abundances estimation\n",
    "#endmembers = inst.endmembers\n",
    "#N, D = projected_data.shape\n",
    "\n",
    "#R = D + 1 # Number of endmembers\n",
    "#abundances = np.zeros((N, R))\n",
    "    \n",
    "# Trick for handling the sum-to-one constraint (see slides)\n",
    "\n",
    "#display_abundances(abundances.reshape((95, 95, 3)))"
   ]
  }
 ],
 "metadata": {
  "kernelspec": {
   "display_name": "Python 3",
   "language": "python",
   "name": "python3"
  },
  "language_info": {
   "codemirror_mode": {
    "name": "ipython",
    "version": 3
   },
   "file_extension": ".py",
   "mimetype": "text/x-python",
   "name": "python",
   "nbconvert_exporter": "python",
   "pygments_lexer": "ipython3",
   "version": "3.8.5-final"
  }
 },
 "nbformat": 4,
 "nbformat_minor": 4
}